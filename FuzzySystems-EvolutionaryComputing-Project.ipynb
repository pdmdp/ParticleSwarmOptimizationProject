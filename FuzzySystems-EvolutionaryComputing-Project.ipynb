{
  "nbformat": 4,
  "nbformat_minor": 0,
  "metadata": {
    "colab": {
      "provenance": []
    },
    "kernelspec": {
      "name": "python3",
      "display_name": "Python 3"
    },
    "language_info": {
      "name": "python"
    }
  },
  "cells": [
    {
      "cell_type": "markdown",
      "source": [
        "# Fuzzy Systems and Evolutionary Computing Project (a.y. 2024-2025)"
      ],
      "metadata": {
        "id": "Aik__yjOXhoL"
      }
    },
    {
      "cell_type": "markdown",
      "source": [
        "### Matteo Pietro Di Pilato\n",
        "\n",
        "### ID number: 525298"
      ],
      "metadata": {
        "id": "9JDF82f8XtQ9"
      }
    },
    {
      "cell_type": "markdown",
      "source": [
        "This project addresses the implementation of **Particle Swarm Optimization (PSO)**, a population-based meta-heuristic algorithm designed to efficiently explore and exploit high-dimensional search spaces. PSO operates by maintaining a swarm of particles, each encoding a candidate solution in a continuous space, with particle states defined through their positional vectors and associated velocities. At each iteration, these particles update their velocities and positions, leveraging not only their own experience but also information shared among neighbors and the globally best-performing solution observed by the swarm.\n",
        "\n",
        "The implementation requires constructing a ParticleCandidate class, which represents individual particles as real-valued vectors bounded by user-defined limits and supports velocity-based state transitions. Core methods in this class generate random particle states within constraints, mutate them over time, and recombine solution vectors using stochastic coefficients and neighborhood information in accordance with the canonical PSO update rule:\n",
        "\n",
        "$$\n",
        "\\text{velocity} \\leftarrow (\\text{inertia}) \\cdot \\text{velocity}\n",
        " + r_l \\cdot w_l \\cdot (\\text{candidate} - \\text{local best})\n",
        " + r_n \\cdot w_n \\cdot (\\text{candidate} - \\text{neighborhood best})\n",
        " + r_g \\cdot w_g \\cdot (\\text{candidate} - \\text{global best})\n",
        "$$\n",
        "\n",
        "The full PSO algorithm is encapsulated in a ParticleSwarmOptimizer class, which manages the population, fitness evaluation, neighborhood assignment, and iterative optimization loop. This class initializes a swarm of randomized particles, performs fitness-based updates of both individual and collective bests, dynamically samples neighbors, and applies the position and velocity updates in parallel across the population at each generation. The design strictly adheres to the interface and inheritance model required by the softpy library, ensuring compatibility and extensibility for further experimental research or practical optimization tasks.\n"
      ],
      "metadata": {
        "id": "llpit6eEXlDb"
      }
    },
    {
      "cell_type": "markdown",
      "source": [
        "## Installation and import of libraries"
      ],
      "metadata": {
        "id": "EdKIQ0BzIZmX"
      }
    },
    {
      "cell_type": "code",
      "source": [
        "!pip install softpy # Install the softpy library"
      ],
      "metadata": {
        "colab": {
          "base_uri": "https://localhost:8080/"
        },
        "id": "2PImZMv8KHs-",
        "outputId": "54746d25-2aac-4a4c-e27e-c0eedb10b400"
      },
      "execution_count": 1,
      "outputs": [
        {
          "output_type": "stream",
          "name": "stdout",
          "text": [
            "Collecting softpy\n",
            "  Downloading softpy-0.1.2.tar.gz (26 kB)\n",
            "  Preparing metadata (setup.py) ... \u001b[?25l\u001b[?25hdone\n",
            "Requirement already satisfied: numpy>=1.24.0 in /usr/local/lib/python3.12/dist-packages (from softpy) (2.0.2)\n",
            "Requirement already satisfied: scipy>=1.11.0 in /usr/local/lib/python3.12/dist-packages (from softpy) (1.16.1)\n",
            "Collecting dill>=0.3.9 (from softpy)\n",
            "  Downloading dill-0.4.0-py3-none-any.whl.metadata (10 kB)\n",
            "Requirement already satisfied: joblib>=1.4.2 in /usr/local/lib/python3.12/dist-packages (from softpy) (1.5.2)\n",
            "Requirement already satisfied: scikit-learn>=1.5.1 in /usr/local/lib/python3.12/dist-packages (from softpy) (1.6.1)\n",
            "Requirement already satisfied: threadpoolctl>=3.1.0 in /usr/local/lib/python3.12/dist-packages (from scikit-learn>=1.5.1->softpy) (3.6.0)\n",
            "Downloading dill-0.4.0-py3-none-any.whl (119 kB)\n",
            "\u001b[2K   \u001b[90m━━━━━━━━━━━━━━━━━━━━━━━━━━━━━━━━━━━━━━━━\u001b[0m \u001b[32m119.7/119.7 kB\u001b[0m \u001b[31m5.9 MB/s\u001b[0m eta \u001b[36m0:00:00\u001b[0m\n",
            "\u001b[?25hBuilding wheels for collected packages: softpy\n",
            "  Building wheel for softpy (setup.py) ... \u001b[?25l\u001b[?25hdone\n",
            "  Created wheel for softpy: filename=softpy-0.1.2-py3-none-any.whl size=31516 sha256=66b74ad37337cf8e49bac055fc2e81a1e7f21fd602ae2ffa0242cf31f6b86a4e\n",
            "  Stored in directory: /root/.cache/pip/wheels/43/f9/31/684c015a2afec89b7a1a26c14c693c4430c2400b79de69a8a5\n",
            "Successfully built softpy\n",
            "Installing collected packages: dill, softpy\n",
            "  Attempting uninstall: dill\n",
            "    Found existing installation: dill 0.3.8\n",
            "    Uninstalling dill-0.3.8:\n",
            "      Successfully uninstalled dill-0.3.8\n",
            "\u001b[31mERROR: pip's dependency resolver does not currently take into account all the packages that are installed. This behaviour is the source of the following dependency conflicts.\n",
            "datasets 4.0.0 requires dill<0.3.9,>=0.3.0, but you have dill 0.4.0 which is incompatible.\u001b[0m\u001b[31m\n",
            "\u001b[0mSuccessfully installed dill-0.4.0 softpy-0.1.2\n"
          ]
        }
      ]
    },
    {
      "cell_type": "code",
      "source": [
        "# Import all necessary libraries\n",
        "import numpy as np\n",
        "\n",
        "# Import specific modules from softpy library\n",
        "from softpy.evolutionary.candidate import *\n",
        "from softpy.evolutionary.genetic import *\n",
        "from softpy.evolutionary.selection import *\n",
        "from softpy.evolutionary.singlestate import *\n",
        "from softpy.evolutionary.utils import *\n",
        "\n",
        "import scipy.stats as stats # For statistical distributions (uniform distribution)"
      ],
      "metadata": {
        "id": "CX5Km4-56zLY"
      },
      "execution_count": 2,
      "outputs": []
    },
    {
      "cell_type": "markdown",
      "source": [
        "## 1. Particles Implementation"
      ],
      "metadata": {
        "id": "FXh7Bg0ZYqdb"
      }
    },
    {
      "cell_type": "code",
      "source": [
        "class ParticleCandidate(FloatVectorCandidate):\n",
        "\n",
        "    \"\"\"\n",
        "    Particle class for PSO algorithm\n",
        "\n",
        "    Inherits from FloatVectorCandidate to maintain compatibility with softpy library.\n",
        "    Each particle has a position (candidate) and velocity, plus PSO-specific parameters.\n",
        "    \"\"\"\n",
        "\n",
        "    def __init__(self, size, lower, upper, candidate, velocity):\n",
        "\n",
        "        \"\"\"\n",
        "        Initialize a particle with position and velocity\n",
        "\n",
        "        Args:\n",
        "            size: Number of dimensions in the solution space\n",
        "            lower: Array of lower bounds for each dimension\n",
        "            upper: Array of upper bounds for each dimension\n",
        "            candidate: Array representing the particle's current position\n",
        "            velocity: Array representing the particle's current velocity\n",
        "        \"\"\"\n",
        "\n",
        "        # Call parent constructor to initialize the base FloatVectorCandidate\n",
        "        # stats.uniform is passed as the distribution parameter (required by parent)\n",
        "        super().__init__(size, candidate, stats.uniform, lower, upper)\n",
        "\n",
        "        # Store velocity as a copy to avoid reference issues\n",
        "        self.velocity = velocity.copy()\n",
        "\n",
        "        # PSO algorithm parameters: these control the particle's behavior\n",
        "        self.inertia = 0.7  # Weight for previous velocity\n",
        "        self.wl = 0.1       # Weight for attraction to personal best\n",
        "        self.wn = 0.1       # Weight for attraction to neighborhood best\n",
        "        self.wg = 0.8       # Weight for attraction to global best\n",
        "\n",
        "        # Verify that the three weights sum to 1.0 (PSO requirement)\n",
        "        # Use small epsilon for floating point comparison\n",
        "        if abs(self.wl + self.wn + self.wg - 1.0) > 1e-10:\n",
        "            raise ValueError(\"weights must sum to 1\")\n",
        "\n",
        "    @staticmethod\n",
        "    def generate(size, lower, upper):\n",
        "\n",
        "        \"\"\"\n",
        "        Generate a random particle with random position and velocity\n",
        "\n",
        "        This is a factory method that creates a new ParticleCandidate with\n",
        "        randomly initialized position and velocity within the given bounds.\n",
        "\n",
        "        Args:\n",
        "            size: Number of dimensions\n",
        "            lower: Array of lower bounds\n",
        "            upper: Array of upper bounds\n",
        "\n",
        "        Returns:\n",
        "            New ParticleCandidate instance with random initialization\n",
        "        \"\"\"\n",
        "\n",
        "        # Generate random position uniformly within bounds\n",
        "        # Each dimension is initialized between lower[i] and upper[i]\n",
        "        candidate = np.random.uniform(lower, upper, size=size)\n",
        "\n",
        "        # Generate random velocity within reasonable range\n",
        "        # Velocity range is based on the search space size\n",
        "        vel_range = np.abs(upper - lower)  # Maximum possible range per dimension\n",
        "        velocity = np.random.uniform(-vel_range, vel_range, size=size)\n",
        "\n",
        "        # Create and return new particle instance\n",
        "        return ParticleCandidate(size, lower, upper, candidate, velocity)\n",
        "\n",
        "    def mutate(self):\n",
        "\n",
        "        \"\"\"\n",
        "        Update particle position by adding velocity\n",
        "\n",
        "        This implements the position update step of PSO:\n",
        "        position = position + velocity\n",
        "\n",
        "        The method modifies the particle in-place rather than returning a new particle.\n",
        "        \"\"\"\n",
        "\n",
        "        # Apply velocity to update position\n",
        "        self.candidate = self.candidate + self.velocity\n",
        "\n",
        "        # Keep particle within bounds by clipping to valid range\n",
        "        # This prevents particles from leaving the search space\n",
        "        self.candidate = np.clip(self.candidate, self.lower, self.upper)\n",
        "\n",
        "    def recombine(self, local_best, neighborhood_best, global_best):\n",
        "\n",
        "        \"\"\"\n",
        "        Update particle velocity using PSO velocity update formula\n",
        "\n",
        "        This is the core of PSO algorithm - updates velocity based on:\n",
        "        - Current velocity (inertia term)\n",
        "        - Attraction to personal best position\n",
        "        - Attraction to neighborhood best position\n",
        "        - Attraction to global best position\n",
        "\n",
        "        Args:\n",
        "            local_best: This particle's personal best position\n",
        "            neighborhood_best: Best position among this particle's neighbors\n",
        "            global_best: Best position found by any particle in the swarm\n",
        "        \"\"\"\n",
        "\n",
        "        # Generate random coefficients for each attraction term, selected uniformly at random between 0 and 1\n",
        "        # These add stochasticity to the velocity update\n",
        "        rl = np.random.rand()  # Random coefficient for local best attraction\n",
        "        rn = np.random.rand()  # Random coefficient for neighborhood best attraction\n",
        "        rg = np.random.rand()  # Random coefficient for global best attraction\n",
        "\n",
        "\n",
        "        # Apply PSO velocity update formula as specified in project requirements\n",
        "        self.velocity = (self.inertia * self.velocity +\n",
        "                        rl * self.wl * (self.candidate - local_best.candidate) +\n",
        "                        rn * self.wn * (self.candidate - neighborhood_best.candidate) +\n",
        "                        rg * self.wg * (self.candidate - global_best.candidate))"
      ],
      "metadata": {
        "id": "pjLCOpg063y9"
      },
      "execution_count": 3,
      "outputs": []
    },
    {
      "cell_type": "markdown",
      "source": [
        "## 2. PSO algorithm implementation"
      ],
      "metadata": {
        "id": "eLRbZ7WwIEgY"
      }
    },
    {
      "cell_type": "code",
      "execution_count": 4,
      "metadata": {
        "id": "c7fG5TSg6vi4"
      },
      "outputs": [],
      "source": [
        "class ParticleSwarmOptimizer(MetaHeuristicsAlgorithm):\n",
        "\n",
        "    \"\"\"\n",
        "    Particle Swarm Optimization algorithm implementation\n",
        "\n",
        "    Inherits from MetaHeuristicsAlgorithm to maintain compatibility with softpy.\n",
        "    Manages a population of particles and orchestrates their movement through\n",
        "    the search space to find optimal solutions.\n",
        "    \"\"\"\n",
        "\n",
        "    def __init__(self, fitness_func, pop_size, n_neighbors, **kwargs):\n",
        "\n",
        "        \"\"\"\n",
        "        Initialize the PSO algorithm\n",
        "\n",
        "        Args:\n",
        "            fitness_func: Function that evaluates particle fitness\n",
        "            pop_size: Number of particles in the swarm\n",
        "            n_neighbors: Number of neighbors each particle considers\n",
        "            **kwargs: Additional parameters passed to particle generation\n",
        "        \"\"\"\n",
        "\n",
        "        # Store algorithm parameters\n",
        "        self.fitness_func = fitness_func    # Function to optimize\n",
        "        self.pop_size = pop_size           # Size of particle swarm\n",
        "        self.n_neighbors = n_neighbors     # Neighborhood size for each particle\n",
        "        self.kwargs = kwargs               # Parameters for particle generation\n",
        "\n",
        "        # Initialize data structures to track algorithm state\n",
        "        self.population = []                # List of current particles\n",
        "        self.best = []                    # Personal best positions for each particle\n",
        "        self.fitness_best = np.array([])  # Personal best fitness values\n",
        "        self.global_best = None           # Overall best particle found\n",
        "        self.global_fitness_best = -np.inf  # Overall best fitness value\n",
        "\n",
        "    def fit(self, n_iters):\n",
        "\n",
        "        \"\"\"\n",
        "        Run the PSO algorithm for specified number of iterations\n",
        "\n",
        "        This is the main algorithm loop that:\n",
        "        1. Initializes the particle swarm\n",
        "        2. Iteratively updates particles based on PSO rules\n",
        "        3. Tracks best solutions found\n",
        "\n",
        "        Args:\n",
        "            n_iters: Number of iterations to run the algorithm\n",
        "\n",
        "        Returns:\n",
        "            The best particle (solution) found during optimization\n",
        "        \"\"\"\n",
        "\n",
        "        # Step 1: Create initial population of random particles\n",
        "        # Each particle is generated using the parameters passed in **kwargs\n",
        "        self.population = [ParticleCandidate.generate(**self.kwargs) for _ in range(self.pop_size)]\n",
        "\n",
        "        # Step 2: Initialize personal best tracking\n",
        "        # Create copies of particles, not references\n",
        "        # This ensures personal bests don't change when particles move\n",
        "        self.best = []\n",
        "        for p in self.population:\n",
        "            # Create independent copy for personal best tracking\n",
        "            best_copy = ParticleCandidate(p.size, p.lower, p.upper, p.candidate.copy(), p.velocity.copy())\n",
        "            self.best.append(best_copy)\n",
        "\n",
        "        # Initialize personal best fitness values to negative infinity\n",
        "        # This ensures any real fitness will be better than initial value\n",
        "        self.fitness_best = np.full(self.pop_size, -np.inf)\n",
        "\n",
        "        # Step 3: Main optimization loop\n",
        "        for iteration in range(n_iters):\n",
        "\n",
        "            # Step 3a: Evaluate fitness of all particles in current population\n",
        "            current_fitness = [self.fitness_func(p) for p in self.population]\n",
        "\n",
        "            # Step 3b: Update personal bests and global best\n",
        "            for i in range(self.pop_size):\n",
        "                # Check if current particle achieved better fitness than its personal best\n",
        "                if current_fitness[i] > self.fitness_best[i]:\n",
        "                    # Update personal best fitness\n",
        "                    self.fitness_best[i] = current_fitness[i]\n",
        "\n",
        "                    # This preserves the best position even as particle continues moving\n",
        "                    self.best[i] = ParticleCandidate(\n",
        "                        self.population[i].size,\n",
        "                        self.population[i].lower,\n",
        "                        self.population[i].upper,\n",
        "                        self.population[i].candidate.copy(),  # Copy position\n",
        "                        self.population[i].velocity.copy()    # Copy velocity\n",
        "                    )\n",
        "\n",
        "                # Check if current particle achieved new global best\n",
        "                if current_fitness[i] > self.global_fitness_best:\n",
        "                    # Update global best fitness\n",
        "                    self.global_fitness_best = current_fitness[i]\n",
        "\n",
        "                    # Store copy for global best too\n",
        "                    self.global_best = ParticleCandidate(\n",
        "                        self.population[i].size,\n",
        "                        self.population[i].lower,\n",
        "                        self.population[i].upper,\n",
        "                        self.population[i].candidate.copy(),\n",
        "                        self.population[i].velocity.copy()\n",
        "                    )\n",
        "\n",
        "            # Step 3c: Update all particles using PSO rules\n",
        "            for i in range(self.pop_size):\n",
        "\n",
        "                # Select neighbors for current particle\n",
        "                # Create list of all other particle indices (excluding current particle)\n",
        "                others = [j for j in range(self.pop_size) if j != i]\n",
        "\n",
        "                if len(others) > 0:\n",
        "                    # Randomly select n_neighbors from other particles\n",
        "                    # Use min() to handle case where n_neighbors > available particles\n",
        "                    neighbor_idx = np.random.choice(others,\n",
        "                                                  size=min(self.n_neighbors, len(others)),\n",
        "                                                  replace=False)\n",
        "\n",
        "                    # Find the neighbor with best personal fitness\n",
        "                    best_n = neighbor_idx[0]  # Start with first neighbor\n",
        "                    for idx in neighbor_idx:\n",
        "                        # Compare fitness values to find best neighbor\n",
        "                        if self.fitness_best[idx] > self.fitness_best[best_n]:\n",
        "                            best_n = idx\n",
        "\n",
        "                    # Get the personal best of the best neighbor\n",
        "                    best_neighbor = self.best[best_n]\n",
        "                else:\n",
        "                    # Fallback: if no other particles, use global best as neighbor\n",
        "                    best_neighbor = self.global_best\n",
        "\n",
        "                # Step 3d: Apply PSO update rules to current particle\n",
        "                # First: Update velocity based on attractions to best positions\n",
        "                self.population[i].recombine(self.best[i], best_neighbor, self.global_best)\n",
        "\n",
        "                # Second: Update position by adding velocity\n",
        "                self.population[i].mutate()\n",
        "\n",
        "        # Return the best solution found during optimization\n",
        "        return self.global_best"
      ]
    },
    {
      "cell_type": "markdown",
      "source": [
        "## Test of the implementation"
      ],
      "metadata": {
        "id": "cv_VY_RAIMce"
      }
    },
    {
      "cell_type": "code",
      "source": [
        "def simple_fitness(particle):\n",
        "\n",
        "    \"\"\"\n",
        "    Simple test fitness function - quadratic with maximum at origin\n",
        "\n",
        "    This function has its global maximum at [0, 0, ..., 0] and decreases\n",
        "    quadratically as we move away from the origin. Perfect for testing\n",
        "    whether PSO can find the global optimum.\n",
        "\n",
        "    Args:\n",
        "        particle: ParticleCandidate to evaluate\n",
        "\n",
        "    Returns:\n",
        "        Fitness value (higher is better)\n",
        "    \"\"\"\n",
        "\n",
        "    return -np.sum(particle.candidate ** 2)\n",
        "\n",
        "print(\"Testing PSO implementation...\")\n",
        "\n",
        "# Create PSO instance with test parameters\n",
        "pso = ParticleSwarmOptimizer(\n",
        "    fitness_func=simple_fitness,  # Function to optimize\n",
        "    pop_size=15,                  # 15 particles in swarm\n",
        "    n_neighbors=3,                # Each particle considers 3 neighbors\n",
        "    size=2,                       # 2-dimensional problem\n",
        "    lower=np.array([-10.0, -10.0]),  # Lower bounds for each dimension\n",
        "    upper=np.array([10.0, 10.0])     # Upper bounds for each dimension\n",
        ")\n",
        "\n",
        "# Run optimization\n",
        "result = pso.fit(n_iters=10000)\n",
        "\n",
        "# Display results\n",
        "print(f\"Best solution found: {result.candidate}\")\n",
        "print(f\"Best fitness: {pso.global_fitness_best:.6f}\")\n",
        "print(f\"Distance from optimum [0,0]: {np.linalg.norm(result.candidate):.4f}\")"
      ],
      "metadata": {
        "colab": {
          "base_uri": "https://localhost:8080/"
        },
        "id": "mnyyA9tx69pN",
        "outputId": "7c56f212-a68e-42d5-8a37-e9423f22da7b"
      },
      "execution_count": 5,
      "outputs": [
        {
          "output_type": "stream",
          "name": "stdout",
          "text": [
            "Testing PSO implementation...\n",
            "Best solution found: [-0.78937491  0.94114854]\n",
            "Best fitness: -1.508873\n",
            "Distance from optimum [0,0]: 1.2284\n"
          ]
        }
      ]
    }
  ]
}